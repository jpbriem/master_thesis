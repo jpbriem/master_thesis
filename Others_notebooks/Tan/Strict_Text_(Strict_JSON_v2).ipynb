{
 "cells": [
  {
   "cell_type": "markdown",
   "id": "ec216685-5ec3-497c-9ef8-e1758ca30423",
   "metadata": {},
   "source": [
    "# LLM Strict JSON v2 (Text) Framework\n",
    "- Created by John Tan Chong Min\n",
    "- Updated: 2 Nov 2023\n",
    "    - Changed to include both ' and \" quotations to surround the ###key###: ```fr\",*\\s*['|\\\"]{delimiter}([^#]*){delimiter}['|\\\"]: \"```\n",
    "    - Changed to include both ' and \" quotations when extracting out the value: ``` curated_matches = [match[1:-1] if match[0] in '\\'\"' else match for match in my_matches]```\n",
    "    - Added ```You must use \"{delimiter}{{key}}{delimiter}\" to enclose the each {{key}}.``` to system prompt and to error message to cue GPT to output the key with the delimiter as it does not output the delimiter naturally sometimes\n",
    "- Created: 28 Oct 2023\n",
    "- Collaborators welcome"
   ]
  },
  {
   "cell_type": "code",
   "execution_count": 60,
   "id": "be2280c7-1d2c-4639-b4be-032313ec1b35",
   "metadata": {
    "tags": []
   },
   "outputs": [],
   "source": [
    "import os\n",
    "import openai\n",
    "import json\n",
    "import re\n",
    "\n",
    "#API Keys\n",
    "os.environ['OPENAI_API_TOKEN'] = '<YOUR_API_KEY_HERE>'\n",
    "openai.api_key = os.environ['OPENAI_API_TOKEN']"
   ]
  },
  {
   "cell_type": "markdown",
   "id": "77477080-892f-42de-9acd-7e440fd50de0",
   "metadata": {},
   "source": [
    "# Strict Text Formatting\n",
    "- Use when you want to force the function output to be a json format\n",
    "- Helps a lot with minimizing unnecessary explanations of ChatGPT, and ensuring all output fields are there\n",
    "- Better than vanilla Strict JSON if you want to output ' or \" or \\ that may break a json.loads()\n",
    "- All you need is the function ```strict_text()```\n",
    "\n",
    "## Key Guideline: Bare Minimum, Functional Concept\n",
    "- \"Fit everything into a string, because it works\"\n",
    "- You will get everything back as a string, and you can then convert it to int, float, code, array up to your liking\n",
    "- With ```strict_text()```, you can get any kind of answers including those with lots of ' or \" or { or } or \\\n",
    "- You don't even need to match brackets { or quotation marks ' in the json fields for this to work\n",
    "- Fewer features than vanilla Strict JSON (such as list-based constraining, dynamic inputs), but you can always just type it out in system prompt yourself"
   ]
  },
  {
   "cell_type": "code",
   "execution_count": 64,
   "id": "78815bbd-f602-45c0-bb63-bd4ee5cc5fbe",
   "metadata": {
    "tags": []
   },
   "outputs": [],
   "source": [
    "def strict_text(system_prompt, user_prompt, output_format, delimiter = '###',\n",
    "                  model = 'gpt-3.5-turbo', temperature = 0, num_tries = 3, verbose = False):\n",
    "    ''' Ensures that OpenAI will always adhere to the desired output json format. \n",
    "    Uses rule-based iterative feedback to ask GPT to self-correct.\n",
    "    Keeps trying up to num_tries it it does not. Returns empty json if unable to after num_tries iterations.'''\n",
    "\n",
    "    # start off with no error message\n",
    "    error_msg = ''\n",
    "    \n",
    "    for i in range(num_tries):\n",
    "        \n",
    "        # make the output format keys with a unique identifier\n",
    "        new_output_format = {}\n",
    "        for key in output_format.keys():\n",
    "            new_output_format[f'{delimiter}{key}{delimiter}'] = output_format[key]\n",
    "        output_format_prompt = f'''\\nYou are to output the following in json format: {new_output_format}\n",
    "You must use \"{delimiter}{{key}}{delimiter}\" to enclose the each {{key}}.'''\n",
    "                    \n",
    "        # Use OpenAI to get a response\n",
    "        response = openai.ChatCompletion.create(\n",
    "          temperature = temperature,\n",
    "          model=model,\n",
    "          messages=[\n",
    "            {\"role\": \"system\", \"content\": system_prompt + output_format_prompt + error_msg},\n",
    "            {\"role\": \"user\", \"content\": str(user_prompt)}\n",
    "          ]\n",
    "        )\n",
    "        \n",
    "        res = response['choices'][0]['message']['content']\n",
    "\n",
    "        if verbose:\n",
    "            print('System prompt:', system_prompt + output_format_prompt + error_msg)\n",
    "            print('\\nUser prompt:', str(user_prompt))\n",
    "            print('\\nGPT response:', res)\n",
    "        \n",
    "        # try-catch block to ensure output format is adhered to\n",
    "        try:\n",
    "            # check key appears for each element in the output\n",
    "            for key in new_output_format.keys():\n",
    "                # if output field missing, raise an error\n",
    "                if key not in res: raise Exception(f\"{key} not in json output\")\n",
    "                \n",
    "            # if all is good, we then extract out the fields\n",
    "            # Use regular expressions to extract keys and values\n",
    "            pattern = fr\",*\\s*['|\\\"]{delimiter}([^#]*){delimiter}['|\\\"]: \"\n",
    "\n",
    "            matches = re.split(pattern, res[1:-1])\n",
    "\n",
    "            # remove null matches\n",
    "            my_matches = [match for match in matches if match !='']\n",
    "\n",
    "            # remove the ' or \" from the value matches\n",
    "            curated_matches = [match[1:-1] if match[0] in '\\'\"' else match for match in my_matches]\n",
    "\n",
    "            # create a dictionary\n",
    "            end_dict = {}\n",
    "            for i in range(0, len(curated_matches), 2):\n",
    "                end_dict[curated_matches[i]] = curated_matches[i+1]\n",
    "\n",
    "            return end_dict\n",
    "\n",
    "        except Exception as e:\n",
    "            error_msg = f\"\\n\\nResult: {res}\\n\\nError message: {str(e)}\\nYou must use \\\"{delimiter}{{key}}{delimiter}\\\" to enclose the each {{key}}.\"\n",
    "            print(\"An exception occurred:\", str(e))\n",
    "            print(\"Current invalid json format:\", res)\n",
    "         \n",
    "    return {}"
   ]
  },
  {
   "cell_type": "markdown",
   "id": "56773e55-2cce-4ba4-b6a3-8377bc8f8397",
   "metadata": {},
   "source": [
    "## Overall Open-ended generation (vanilla)\n",
    "- **system_prompt**: Write in whatever you want GPT to become. \"You are a \\<purpose in life\\>\"\n",
    "- **user_prompt**: The user input. Later, when we use it as a function, this is the function input\n",
    "- **output_format**: JSON format with the key as the output key, and the value as the output description\n",
    "    - The output keys will be preserved exactly, while GPT will generate content to match the description of the value as best as possible\n",
    "\n",
    "#### Example Usage\n",
    "```python\n",
    "res = strict_text(system_prompt = 'You are a classifier',\n",
    "                    user_prompt = 'It is a beautiful day',\n",
    "                    output_format = {\"Sentiment\": \"Type of Sentiment\",\n",
    "                                    \"Tense\": \"Type of Tense\"})\n",
    "                                    \n",
    "print(res)\n",
    "```\n",
    "\n",
    "#### Example output\n",
    "```{'Sentiment': 'Positive', 'Tense': 'Present'}```\n"
   ]
  },
  {
   "cell_type": "code",
   "execution_count": 65,
   "id": "c9099840-700d-403a-bc3c-28843d0295c9",
   "metadata": {
    "tags": []
   },
   "outputs": [
    {
     "name": "stdout",
     "output_type": "stream",
     "text": [
      "{'Sentiment': 'Positive', 'Tense': 'Present'}\n"
     ]
    }
   ],
   "source": [
    "res = strict_text(system_prompt = 'You are a classifier',\n",
    "                    user_prompt = 'It is a beautiful day',\n",
    "                    output_format = {\"Sentiment\": \"Type of Sentiment\",\n",
    "                                    \"Tense\": \"Type of Tense\"})\n",
    "print(res)"
   ]
  },
  {
   "cell_type": "code",
   "execution_count": 66,
   "id": "e93a96b1-dba4-438a-bd29-1e02b9f65052",
   "metadata": {
    "tags": []
   },
   "outputs": [],
   "source": [
    "text = '''\n",
    "One, two, three, four, five,\n",
    "Once I caught a fish alive,\n",
    "Six, seven, eight, nine, ten,\n",
    "Then I let it go again.\n",
    "Why did you let it go?\n",
    "Because it bit my finger so.\n",
    "Which finger did it bite?\n",
    "This little finger on my right'''"
   ]
  },
  {
   "cell_type": "code",
   "execution_count": 67,
   "id": "671544b2-c16e-4fe8-b775-76a3a2c8db90",
   "metadata": {
    "tags": []
   },
   "outputs": [
    {
     "name": "stdout",
     "output_type": "stream",
     "text": [
      "{'Summary': 'Once caught fish alive, let go, bit finger', 'Entity Caught': 'fish', 'Finger Bitten': 'little finger', 'Numbers': \"['One', 'two', 'three', 'four', 'five', 'Six', 'seven', 'eight', 'nine', 'ten']\"}\n"
     ]
    }
   ],
   "source": [
    "# Open-ended information extraction from text\n",
    "res = strict_text(system_prompt = 'You are a friendly assistant meant to extract information from text', \n",
    "                    user_prompt = text,\n",
    "                    output_format = {\"Summary\": \"Summarize the text in 10 words\", \"Entity Caught\": \"name of entity caught\", \n",
    "                                 \"Finger Bitten\": \"finger which was bitten\", \"Numbers\": \"List of numbers\"})\n",
    "print(res)"
   ]
  },
  {
   "cell_type": "markdown",
   "id": "9796a1c0-3440-4383-8d04-a833d21ad7bb",
   "metadata": {},
   "source": [
    "# StrictJSON v2 (StrictText)\n",
    "\n",
    "## Overall Open-ended generation (advanced)\n",
    "- Constrain your multiple GPT outputs in a JSON format for consistency\n",
    "- All JSON value fields will be strings, easily referenced via dictionary key lookup\n",
    "- Able to handle code and unstructured formats that would typically break ```json.loads()```\n",
    "\n",
    "#### Example Usage\n",
    "```python\n",
    "res = strict_text(system_prompt = 'You are a code generator, generating code to fulfil a task',\n",
    "                    user_prompt = 'Sum all elements in a given array p',\n",
    "                    output_format = {\"Elaboration\": \"How you would do it\",\n",
    "                                     \"C\": \"Code in C\",\n",
    "                                    \"Python\": \"Code in Python\"})\n",
    "                                    \n",
    "print(res)\n",
    "```\n",
    "\n",
    "#### Example output\n",
    "```{'Elaboration': 'To sum all elements in a given array, you can iterate through each element of the array and keep adding them to a running total.', ```\n",
    "\n",
    "```'C': 'int sum = 0;\\\\nfor (int i = 0; i < n; i++) {\\\\n    sum += p[i];\\\\n}', ```\n",
    "\n",
    "```'Python': 'sum = 0\\\\nfor i in range(len(p)):\\\\n    sum += p[i]'}```\n"
   ]
  },
  {
   "cell_type": "code",
   "execution_count": 72,
   "id": "91791d1e-d6d7-4b2e-8d6f-6718b0119249",
   "metadata": {
    "tags": []
   },
   "outputs": [
    {
     "name": "stdout",
     "output_type": "stream",
     "text": [
      "{'Elaboration': 'To sum all elements in a given array, you can iterate through each element of the array and keep adding them to a running total.', 'C': 'int sum = 0;\\\\nfor (int i = 0; i < n; i++) {\\\\n    sum += p[i];\\\\n}', 'Python': 'sum = 0\\\\nfor i in range(len(p)):\\\\n    sum += p[i]'}\n"
     ]
    }
   ],
   "source": [
    "res = strict_text(system_prompt = 'You are a code generator, generating code to fulfil a task',\n",
    "                    user_prompt = 'Sum all elements in a given array p',\n",
    "                    output_format = {\"Elaboration\": \"How you would do it\",\n",
    "                                     \"C\": \"Code in C\",\n",
    "                                    \"Python\": \"Code in Python\"})\n",
    "                                    \n",
    "print(res)"
   ]
  },
  {
   "cell_type": "code",
   "execution_count": 73,
   "id": "3aab70b4-5d6e-403c-a278-aaeef26a4563",
   "metadata": {
    "tags": []
   },
   "outputs": [
    {
     "name": "stdout",
     "output_type": "stream",
     "text": [
      "To sum all elements in a given array, you can iterate through each element of the array and keep adding them to a running total.\n"
     ]
    }
   ],
   "source": [
    "print(res['Elaboration'])"
   ]
  },
  {
   "cell_type": "code",
   "execution_count": 74,
   "id": "aa9d2115-10f3-47af-8932-a2ac2f988259",
   "metadata": {
    "tags": []
   },
   "outputs": [
    {
     "name": "stdout",
     "output_type": "stream",
     "text": [
      "int sum = 0;\n",
      "for (int i = 0; i < n; i++) {\n",
      "    sum += p[i];\n",
      "}\n"
     ]
    }
   ],
   "source": [
    "print(res['C'].replace('\\\\n','\\n'))"
   ]
  },
  {
   "cell_type": "code",
   "execution_count": 75,
   "id": "6a1bbc0f-1694-4918-b831-a4f00abcfe2a",
   "metadata": {
    "tags": []
   },
   "outputs": [
    {
     "name": "stdout",
     "output_type": "stream",
     "text": [
      "sum = 0\n",
      "for i in range(len(p)):\n",
      "    sum += p[i]\n"
     ]
    }
   ],
   "source": [
    "print(res['Python'].replace('\\\\n','\\n'))"
   ]
  },
  {
   "cell_type": "markdown",
   "id": "159c5ce9-23c8-4946-9f05-15908e17160f",
   "metadata": {
    "tags": []
   },
   "source": [
    "## Under the hood (Explanation of how it works - Not needed to run this part)\n",
    "- When given the output JSON format, it adds a delimiter (default: ###) to enclose the key of the JSON.\n",
    "- Example output JSON provided: ```{'Sentiment': 'Type of Sentiment'}```\n",
    "- Example output JSON interpreted by Strict JSON v2: ```{'###Sentiment###': 'Type of Sentiment'}```\n",
    "- We then process the JSON format by using regex to search for the delimiter to extract the keys and values\n",
    "- Note: Change the delimiter to whatever is not present in your dataset"
   ]
  },
  {
   "cell_type": "code",
   "execution_count": 83,
   "id": "6c4e3f68-6384-4715-aefa-52e755343046",
   "metadata": {
    "tags": []
   },
   "outputs": [],
   "source": [
    "# a very difficult chunk of text for json.loads() to parse (it will fail)\n",
    "res = '''{'###Question of the day###': 'What is the 'x' in dx/dy?', \n",
    "'###Code Block 1###': '#include <stdio.h>\\nint main(){\\nint x = 'a'; return 0;\\n}',\n",
    "'###Another Code###': 'import numpy as np\n",
    "### Oh what is this doing here\n",
    "print(\"It can handle so many quotations ' \\\\\" and backslashes and unexpected curly braces { } You don't even need to match }!\")',\n",
    "'###Some characters###': '~!@#$%^&*()_+-'\"{}[];?><,.'}'''"
   ]
  },
  {
   "cell_type": "code",
   "execution_count": 84,
   "id": "2fb7dea7-a034-4964-87fe-d6495bb6d2f8",
   "metadata": {
    "tags": []
   },
   "outputs": [],
   "source": [
    "# change this to whatever is not common in your dataset\n",
    "delimiter = '###'"
   ]
  },
  {
   "cell_type": "code",
   "execution_count": 85,
   "id": "96c3aac1-7c14-447a-8e18-cb312492fba4",
   "metadata": {
    "tags": []
   },
   "outputs": [
    {
     "name": "stdout",
     "output_type": "stream",
     "text": [
      "['Question of the day', \"'What is the 'x' in dx/dy?'\", 'Code Block 1', \"'#include <stdio.h>\\nint main(){\\nint x = 'a'; return 0;\\n}'\", 'Another Code', '\\'import numpy as np\\n### Oh what is this doing here\\nprint(\"It can handle so many quotations \\' \\\\\" and backslashes and unexpected curly braces { } You don\\'t even need to match }!\")\\'', 'Some characters', '\\'~!@#$%^&*()_+-\\'\"{}[];?><,.\\'']\n"
     ]
    }
   ],
   "source": [
    "# Use regular expressions to extract keys and values\n",
    "pattern = fr\",*\\s*['|\\\"]{delimiter}([^#]*){delimiter}['|\\\"]: \"\n",
    "\n",
    "matches = re.split(pattern, res[1:-1])\n",
    "\n",
    "# remove null matches\n",
    "my_matches = [match for match in matches if match !='']\n",
    "\n",
    "print(my_matches)"
   ]
  },
  {
   "cell_type": "code",
   "execution_count": 86,
   "id": "b1308e53-e592-466f-aa7a-b91ef0e30878",
   "metadata": {
    "tags": []
   },
   "outputs": [
    {
     "name": "stdout",
     "output_type": "stream",
     "text": [
      "['Question of the day', \"What is the 'x' in dx/dy?\", 'Code Block 1', \"#include <stdio.h>\\nint main(){\\nint x = 'a'; return 0;\\n}\", 'Another Code', 'import numpy as np\\n### Oh what is this doing here\\nprint(\"It can handle so many quotations \\' \\\\\" and backslashes and unexpected curly braces { } You don\\'t even need to match }!\")', 'Some characters', '~!@#$%^&*()_+-\\'\"{}[];?><,.']\n"
     ]
    }
   ],
   "source": [
    "# remove the ' from the value matches\n",
    "curated_matches = [match[1:-1] if match[0] in '\\'\"' else match for match in my_matches]\n",
    "\n",
    "print(curated_matches)"
   ]
  },
  {
   "cell_type": "code",
   "execution_count": 87,
   "id": "35ffdcf6-6433-41f9-bde2-010ab13c12ab",
   "metadata": {
    "tags": []
   },
   "outputs": [
    {
     "data": {
      "text/plain": [
       "8"
      ]
     },
     "execution_count": 87,
     "metadata": {},
     "output_type": "execute_result"
    }
   ],
   "source": [
    "len(curated_matches)"
   ]
  },
  {
   "cell_type": "code",
   "execution_count": 88,
   "id": "eb2062d6-b933-41d1-ad40-5bbca7936157",
   "metadata": {
    "tags": []
   },
   "outputs": [
    {
     "name": "stdout",
     "output_type": "stream",
     "text": [
      "{'Question of the day': \"What is the 'x' in dx/dy?\", 'Code Block 1': \"#include <stdio.h>\\nint main(){\\nint x = 'a'; return 0;\\n}\", 'Another Code': 'import numpy as np\\n### Oh what is this doing here\\nprint(\"It can handle so many quotations \\' \\\\\" and backslashes and unexpected curly braces { } You don\\'t even need to match }!\")', 'Some characters': '~!@#$%^&*()_+-\\'\"{}[];?><,.'}\n"
     ]
    }
   ],
   "source": [
    "# create a dictionary\n",
    "end_dict = {}\n",
    "for i in range(0, len(curated_matches), 2):\n",
    "    end_dict[curated_matches[i]] = curated_matches[i+1]\n",
    "    \n",
    "print(end_dict)"
   ]
  },
  {
   "cell_type": "code",
   "execution_count": 82,
   "id": "a6352e40-759d-476f-9a27-549a48557b0d",
   "metadata": {
    "tags": []
   },
   "outputs": [
    {
     "name": "stdout",
     "output_type": "stream",
     "text": [
      "Key: Question of the day\n",
      "Value: What is the 'x' in dx/dy?\n",
      "#####\n",
      "Key: Code Block 1\n",
      "Value: #include <stdio.h>\n",
      "int main(){\n",
      "int x = 'a'; return 0;\n",
      "}\n",
      "#####\n",
      "Key: Another Code\n",
      "Value: import numpy as np\n",
      "### Oh what is this doing here\n",
      "print(\"It can handle so many quotations ' \\\" and backslashes and unexpected curly braces { } You don't even need to match }!\")\n",
      "#####\n",
      "Key: Some characters\n",
      "Value: ~!@#$%^&*()_+-'\"{}[];?><,.\n",
      "#####\n"
     ]
    }
   ],
   "source": [
    "for key, value in end_dict.items():\n",
    "    print('Key:', key)\n",
    "    print('Value:', value)\n",
    "    print('#####')"
   ]
  }
 ],
 "metadata": {
  "kernelspec": {
   "display_name": "Python 3 (ipykernel)",
   "language": "python",
   "name": "python3"
  },
  "language_info": {
   "codemirror_mode": {
    "name": "ipython",
    "version": 3
   },
   "file_extension": ".py",
   "mimetype": "text/x-python",
   "name": "python",
   "nbconvert_exporter": "python",
   "pygments_lexer": "ipython3",
   "version": "3.11.3"
  }
 },
 "nbformat": 4,
 "nbformat_minor": 5
}
