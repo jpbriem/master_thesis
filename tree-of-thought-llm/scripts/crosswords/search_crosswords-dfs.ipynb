{
 "cells": [
  {
   "attachments": {},
   "cell_type": "markdown",
   "metadata": {},
   "source": [
    "# Env"
   ]
  },
  {
   "cell_type": "code",
   "execution_count": 1,
   "metadata": {},
   "outputs": [],
   "source": [
    "MODEL = 'gpt-3.5-turbo-1106'\n",
    "MODEL = \"gpt-3.5-turbo\""
   ]
  },
  {
   "cell_type": "code",
   "execution_count": 3,
   "metadata": {},
   "outputs": [],
   "source": [
    "import os\n",
    "OPENAI_KEY = \"\"\n",
    "os.environ['OPENAI_API_KEY'] = OPENAI_KEY"
   ]
  },
  {
   "cell_type": "code",
   "execution_count": 4,
   "metadata": {},
   "outputs": [
    {
     "name": "stdout",
     "output_type": "stream",
     "text": [
      "/work/jbriem/repos/master_thesis/tree-of-thought-llm/scripts\n"
     ]
    }
   ],
   "source": [
    "cd .."
   ]
  },
  {
   "cell_type": "code",
   "execution_count": 5,
   "metadata": {},
   "outputs": [],
   "source": [
    "import json\n",
    "from tot.prompts.crosswords import propose_prompt, value_prompt\n",
    "from tot.models import gpt\n",
    "from tot.tasks.crosswords import MiniCrosswordsEnv\n",
    "\n",
    "env = MiniCrosswordsEnv()"
   ]
  },
  {
   "attachments": {},
   "cell_type": "markdown",
   "metadata": {},
   "source": [
    "# Prompt"
   ]
  },
  {
   "cell_type": "code",
   "execution_count": 6,
   "metadata": {},
   "outputs": [
    {
     "name": "stdout",
     "output_type": "stream",
     "text": [
      "Let's play a 5 x 5 mini crossword, where each word should have exactly 5 letters.\n",
      "\n",
      "Current Board:\n",
      "_____\n",
      "_____\n",
      "_____\n",
      "_____\n",
      "_____\n",
      "\n",
      "Unfilled:\n",
      "h1. An agendum; something to be done: _____\n",
      "h2. An engine: _____\n",
      "h3. Pretentious; flowery: _____\n",
      "h4. A salon; a hall: _____\n",
      "h5. To mock; to sneer: _____\n",
      "v1. To heap: _____\n",
      "v2. An Indian antelope: _____\n",
      "v3. To intend; to plan; to devise; a nettle; to guess: _____\n",
      "v4. A nozzle: _____\n",
      "v5. Desiccator; more dry: _____\n",
      "\n",
      "Filled:\n",
      "\n",
      "Changed:\n",
      "\n",
      "\n",
      "Given the current status, list all possible answers for unfilled or changed words, and your confidence levels (certain/high/medium/low), using the format \"h1. apple (medium)\". Use \"certain\" cautiously and only when you are 100% sure this is the correct word. You can list more then one possible answer for each word.\n",
      "\n"
     ]
    }
   ],
   "source": [
    "def prompt_wrap(obs):\n",
    "    return propose_prompt.format(input=obs)\n",
    "\n",
    "print(prompt_wrap(env.reset(0)))\n",
    "# print('---------')\n",
    "# print(prompt_wrap(env.step('h2. value')[0]))"
   ]
  },
  {
   "cell_type": "code",
   "execution_count": 7,
   "metadata": {},
   "outputs": [],
   "source": [
    "import re\n",
    "import copy\n",
    "from tot.models import gpt\n",
    "\n",
    "def parse_line(input_str):\n",
    "    # regular expression pattern to match the input string format\n",
    "    pattern = r'^([hv][1-5])\\. ([a-zA-Z]{5,5}) \\((certain|high|medium|low)\\).*$'\n",
    "\n",
    "    # use regex to extract the parts of the input string\n",
    "    match = re.match(pattern, input_str)\n",
    "\n",
    "    if match:\n",
    "        # extract the matched groups\n",
    "        parts = [match.group(1), match.group(2), match.group(3)]\n",
    "        return parts\n",
    "    else:\n",
    "        return None\n",
    "\n",
    "confidence_to_value = {'certain': 1, 'high': 0.5, 'medium': 0.2, 'low': 0.1}  # TODO: ad hoc\n",
    "\n",
    "def parse_response(response):\n",
    "    # split the response into lines\n",
    "    lines = response.split('\\n')\n",
    "\n",
    "    # parse each line\n",
    "    parsed_lines = [parse_line(line) for line in lines]\n",
    "\n",
    "    # filter out the lines that didn't match the format\n",
    "    parsed_lines = [(line[0].lower() + '. ' + line[1].lower(), confidence_to_value.get(line[2], 0)) for line in parsed_lines if line is not None]\n",
    "\n",
    "    return parsed_lines if len(parsed_lines) >= 1 else None\n",
    "\n",
    "\n",
    "def get_candidates_to_scores(env):\n",
    "    obs = env.render()\n",
    "    if obs in env.cache: \n",
    "        print('cache hit')\n",
    "        return env.cache[obs]\n",
    "    print('call gpt')\n",
    "    responses = gpt(prompt_wrap(obs), model=MODEL, n=8)\n",
    "    candidates_to_scores = {}\n",
    "    for response in responses:\n",
    "        parsed_response = parse_response(response)\n",
    "        if parsed_response:\n",
    "            for candidate, score in parsed_response:\n",
    "                candidates_to_scores[candidate] = candidates_to_scores.get(candidate, 0) + score\n",
    "        # choose candiate with highest score\n",
    "    # print(sorted(candidates_to_scores.items(), key=lambda x: x[1], reverse=True))\n",
    "    env.cache[obs] = candidates_to_scores\n",
    "    return candidates_to_scores\n",
    "\n",
    "def propose_score(env, idx):\n",
    "    obs = env.reset(idx)\n",
    "    done = False\n",
    "    infos = []\n",
    "    while not done:\n",
    "        responses = gpt(prompt_wrap(obs), model=MODEL, n=5)\n",
    "        candidates_to_scores = {}\n",
    "        for response in responses:\n",
    "            parsed_response = parse_response(response)\n",
    "            if parsed_response:\n",
    "                for candidate, score in parsed_response:\n",
    "                    candidates_to_scores[candidate] = candidates_to_scores.get(candidate, 0) + score\n",
    "        # choose candiate with highest score\n",
    "        print(sorted(candidates_to_scores.items(), key=lambda x: x[1], reverse=True))\n",
    "        if len(candidates_to_scores) == 0:\n",
    "            break\n",
    "        candidates =  sorted(candidates_to_scores, key=candidates_to_scores.get, reverse=True)\n",
    "        for candidate in candidates:\n",
    "            env_ = copy.deepcopy(env)\n",
    "            env_.step(candidate)\n",
    "            if not any(_ == 2 for _ in env_.status):\n",
    "                break\n",
    "        print(candidate)\n",
    "        # candidate = input()\n",
    "        obs, r, done, info = env.step(candidate)\n",
    "        print(obs)\n",
    "        print(env.steps, info)\n",
    "        print('-------------------\\n\\n\\n')\n",
    "        infos.append(info)\n",
    "    return infos"
   ]
  },
  {
   "attachments": {},
   "cell_type": "markdown",
   "metadata": {},
   "source": [
    "# DFS"
   ]
  },
  {
   "cell_type": "code",
   "execution_count": 8,
   "metadata": {},
   "outputs": [],
   "source": [
    "def dfs(env, actions, infos, time_limit, prune, max_per_state):\n",
    "    # get candidate thoughts\n",
    "    candidates_to_scores = get_candidates_to_scores(env)\n",
    "    if len(candidates_to_scores) == 0: return 0, [], []\n",
    "    print(sorted(candidates_to_scores.items(), key=lambda x: x[1], reverse=True))\n",
    "\n",
    "    # back up current state\n",
    "    board, status, steps = env.board.copy(), env.status.copy(), env.steps\n",
    "\n",
    "    # try each candidate\n",
    "    cnt_per_state = 0\n",
    "    for action in sorted(candidates_to_scores, key=candidates_to_scores.get, reverse=True):\n",
    "        obs, r, done, info = env.step(action)\n",
    "        r = info['r_word']\n",
    "        if len(infos) < time_limit and env.steps < 10 and not any(_ == 2 for _ in env.status):  # not violating any existing constraints\n",
    "            cnt_per_state += 1\n",
    "            if cnt_per_state > max_per_state: break\n",
    "            count = env.prompt_status()       \n",
    "            actions.append(action)  \n",
    "\n",
    "            print(len(infos))\n",
    "            print(actions)\n",
    "            print(env.render_board())\n",
    "            print(info)\n",
    "            print(count)\n",
    "            if infos:\n",
    "                best = max(infos, key=lambda x: x['info']['r_word'])\n",
    "                print('best', best)\n",
    "            print('--------------')\n",
    "            print()\n",
    "\n",
    "            info = {'total_step': len(infos), 'env_step': env.steps, 'actions': actions.copy(), 'info': info, 'count': count}\n",
    "            infos.append(info)\n",
    "            if not prune or count['impossible'] < 1:  # only continue if the current status is possible\n",
    "                dfs(env, actions, infos, time_limit, prune, max_per_state)\n",
    "            actions.pop()\n",
    "        env.reset(env.idx, board=board.copy(), status=status.copy(), steps=steps)"
   ]
  },
  {
   "cell_type": "code",
   "execution_count": 9,
   "metadata": {},
   "outputs": [
    {
     "name": "stdout",
     "output_type": "stream",
     "text": [
      "call gpt\n",
      "call openai API\n",
      "[('h2. motor', 1.7), ('v5. drier', 1.2), ('v4. spout', 0.8999999999999999), ('h4. atria', 0.30000000000000004), ('h3. grand', 0.30000000000000004), ('h1. tasks', 0.2), ('h4. lobby', 0.2), ('v2. black', 0.1)]\n",
      "call openai API\n",
      "0\n",
      "['h2. motor']\n",
      "Current Board:\n",
      "_____\n",
      "MOTOR\n",
      "_____\n",
      "_____\n",
      "_____\n",
      "\n",
      "{'r_letter': 0.2, 'r_word': 0.1, 'r_game': False}\n",
      "{'sure': 1, 'maybe': 0, 'impossible': 0}\n",
      "--------------\n",
      "\n",
      "call gpt\n",
      "call openai API\n",
      "[('h4. salon', 1), ('v5. drier', 0.5), ('h3. grand', 0.2), ('h5. taunt', 0.2), ('v1. ladle', 0.2), ('v4. nozze', 0.1)]\n",
      "call openai API\n",
      "call openai API\n",
      "call openai API\n",
      "call openai API\n",
      "call openai API\n",
      "call openai API\n",
      "1\n",
      "['h2. motor', 'h4. salon']\n",
      "Current Board:\n",
      "_____\n",
      "MOTOR\n",
      "_____\n",
      "SALON\n",
      "_____\n",
      "\n",
      "{'r_letter': 0.32, 'r_word': 0.1, 'r_game': False}\n",
      "{'sure': 3, 'maybe': 4, 'impossible': 0}\n",
      "best {'total_step': 0, 'env_step': 1, 'actions': ['h2. motor'], 'info': {'r_letter': 0.2, 'r_word': 0.1, 'r_game': False}, 'count': {'sure': 1, 'maybe': 0, 'impossible': 0}}\n",
      "--------------\n",
      "\n"
     ]
    },
    {
     "ename": "KeyboardInterrupt",
     "evalue": "",
     "output_type": "error",
     "traceback": [
      "\u001b[0;31m---------------------------------------------------------------------------\u001b[0m",
      "\u001b[0;31mKeyboardInterrupt\u001b[0m                         Traceback (most recent call last)",
      "\u001b[1;32m/work/jbriem/repos/master_thesis/tree-of-thought-llm/scripts/crosswords/search_crosswords-dfs.ipynb Cell 11\u001b[0m line \u001b[0;36m7\n\u001b[1;32m      <a href='vscode-notebook-cell://ssh-remote%2Bdws-student-01/work/jbriem/repos/master_thesis/tree-of-thought-llm/scripts/crosswords/search_crosswords-dfs.ipynb#X11sdnNjb2RlLXJlbW90ZQ%3D%3D?line=4'>5</a>\u001b[0m infos \u001b[39m=\u001b[39m []\n\u001b[1;32m      <a href='vscode-notebook-cell://ssh-remote%2Bdws-student-01/work/jbriem/repos/master_thesis/tree-of-thought-llm/scripts/crosswords/search_crosswords-dfs.ipynb#X11sdnNjb2RlLXJlbW90ZQ%3D%3D?line=5'>6</a>\u001b[0m actions \u001b[39m=\u001b[39m []\n\u001b[0;32m----> <a href='vscode-notebook-cell://ssh-remote%2Bdws-student-01/work/jbriem/repos/master_thesis/tree-of-thought-llm/scripts/crosswords/search_crosswords-dfs.ipynb#X11sdnNjb2RlLXJlbW90ZQ%3D%3D?line=6'>7</a>\u001b[0m dfs(env, actions, infos, \u001b[39m100\u001b[39m, prune\u001b[39m=\u001b[39m\u001b[39mTrue\u001b[39;00m, max_per_state\u001b[39m=\u001b[39m\u001b[39m3\u001b[39m)\n\u001b[1;32m      <a href='vscode-notebook-cell://ssh-remote%2Bdws-student-01/work/jbriem/repos/master_thesis/tree-of-thought-llm/scripts/crosswords/search_crosswords-dfs.ipynb#X11sdnNjb2RlLXJlbW90ZQ%3D%3D?line=7'>8</a>\u001b[0m infoss\u001b[39m.\u001b[39mappend(infos)\n\u001b[1;32m      <a href='vscode-notebook-cell://ssh-remote%2Bdws-student-01/work/jbriem/repos/master_thesis/tree-of-thought-llm/scripts/crosswords/search_crosswords-dfs.ipynb#X11sdnNjb2RlLXJlbW90ZQ%3D%3D?line=8'>9</a>\u001b[0m \u001b[39mwith\u001b[39;00m \u001b[39mopen\u001b[39m(\u001b[39m'\u001b[39m\u001b[39mlogs/crosswords/infoss_dfs_prune.json\u001b[39m\u001b[39m'\u001b[39m, \u001b[39m'\u001b[39m\u001b[39mw\u001b[39m\u001b[39m'\u001b[39m) \u001b[39mas\u001b[39;00m fout:\n",
      "\u001b[1;32m/work/jbriem/repos/master_thesis/tree-of-thought-llm/scripts/crosswords/search_crosswords-dfs.ipynb Cell 11\u001b[0m line \u001b[0;36m3\n\u001b[1;32m     <a href='vscode-notebook-cell://ssh-remote%2Bdws-student-01/work/jbriem/repos/master_thesis/tree-of-thought-llm/scripts/crosswords/search_crosswords-dfs.ipynb#X11sdnNjb2RlLXJlbW90ZQ%3D%3D?line=32'>33</a>\u001b[0m     infos\u001b[39m.\u001b[39mappend(info)\n\u001b[1;32m     <a href='vscode-notebook-cell://ssh-remote%2Bdws-student-01/work/jbriem/repos/master_thesis/tree-of-thought-llm/scripts/crosswords/search_crosswords-dfs.ipynb#X11sdnNjb2RlLXJlbW90ZQ%3D%3D?line=33'>34</a>\u001b[0m     \u001b[39mif\u001b[39;00m \u001b[39mnot\u001b[39;00m prune \u001b[39mor\u001b[39;00m count[\u001b[39m'\u001b[39m\u001b[39mimpossible\u001b[39m\u001b[39m'\u001b[39m] \u001b[39m<\u001b[39m \u001b[39m1\u001b[39m:  \u001b[39m# only continue if the current status is possible\u001b[39;00m\n\u001b[0;32m---> <a href='vscode-notebook-cell://ssh-remote%2Bdws-student-01/work/jbriem/repos/master_thesis/tree-of-thought-llm/scripts/crosswords/search_crosswords-dfs.ipynb#X11sdnNjb2RlLXJlbW90ZQ%3D%3D?line=34'>35</a>\u001b[0m         dfs(env, actions, infos, time_limit, prune, max_per_state)\n\u001b[1;32m     <a href='vscode-notebook-cell://ssh-remote%2Bdws-student-01/work/jbriem/repos/master_thesis/tree-of-thought-llm/scripts/crosswords/search_crosswords-dfs.ipynb#X11sdnNjb2RlLXJlbW90ZQ%3D%3D?line=35'>36</a>\u001b[0m     actions\u001b[39m.\u001b[39mpop()\n\u001b[1;32m     <a href='vscode-notebook-cell://ssh-remote%2Bdws-student-01/work/jbriem/repos/master_thesis/tree-of-thought-llm/scripts/crosswords/search_crosswords-dfs.ipynb#X11sdnNjb2RlLXJlbW90ZQ%3D%3D?line=36'>37</a>\u001b[0m env\u001b[39m.\u001b[39mreset(env\u001b[39m.\u001b[39midx, board\u001b[39m=\u001b[39mboard\u001b[39m.\u001b[39mcopy(), status\u001b[39m=\u001b[39mstatus\u001b[39m.\u001b[39mcopy(), steps\u001b[39m=\u001b[39msteps)\n",
      "\u001b[1;32m/work/jbriem/repos/master_thesis/tree-of-thought-llm/scripts/crosswords/search_crosswords-dfs.ipynb Cell 11\u001b[0m line \u001b[0;36m3\n\u001b[1;32m     <a href='vscode-notebook-cell://ssh-remote%2Bdws-student-01/work/jbriem/repos/master_thesis/tree-of-thought-llm/scripts/crosswords/search_crosswords-dfs.ipynb#X11sdnNjb2RlLXJlbW90ZQ%3D%3D?line=32'>33</a>\u001b[0m     infos\u001b[39m.\u001b[39mappend(info)\n\u001b[1;32m     <a href='vscode-notebook-cell://ssh-remote%2Bdws-student-01/work/jbriem/repos/master_thesis/tree-of-thought-llm/scripts/crosswords/search_crosswords-dfs.ipynb#X11sdnNjb2RlLXJlbW90ZQ%3D%3D?line=33'>34</a>\u001b[0m     \u001b[39mif\u001b[39;00m \u001b[39mnot\u001b[39;00m prune \u001b[39mor\u001b[39;00m count[\u001b[39m'\u001b[39m\u001b[39mimpossible\u001b[39m\u001b[39m'\u001b[39m] \u001b[39m<\u001b[39m \u001b[39m1\u001b[39m:  \u001b[39m# only continue if the current status is possible\u001b[39;00m\n\u001b[0;32m---> <a href='vscode-notebook-cell://ssh-remote%2Bdws-student-01/work/jbriem/repos/master_thesis/tree-of-thought-llm/scripts/crosswords/search_crosswords-dfs.ipynb#X11sdnNjb2RlLXJlbW90ZQ%3D%3D?line=34'>35</a>\u001b[0m         dfs(env, actions, infos, time_limit, prune, max_per_state)\n\u001b[1;32m     <a href='vscode-notebook-cell://ssh-remote%2Bdws-student-01/work/jbriem/repos/master_thesis/tree-of-thought-llm/scripts/crosswords/search_crosswords-dfs.ipynb#X11sdnNjb2RlLXJlbW90ZQ%3D%3D?line=35'>36</a>\u001b[0m     actions\u001b[39m.\u001b[39mpop()\n\u001b[1;32m     <a href='vscode-notebook-cell://ssh-remote%2Bdws-student-01/work/jbriem/repos/master_thesis/tree-of-thought-llm/scripts/crosswords/search_crosswords-dfs.ipynb#X11sdnNjb2RlLXJlbW90ZQ%3D%3D?line=36'>37</a>\u001b[0m env\u001b[39m.\u001b[39mreset(env\u001b[39m.\u001b[39midx, board\u001b[39m=\u001b[39mboard\u001b[39m.\u001b[39mcopy(), status\u001b[39m=\u001b[39mstatus\u001b[39m.\u001b[39mcopy(), steps\u001b[39m=\u001b[39msteps)\n",
      "\u001b[1;32m/work/jbriem/repos/master_thesis/tree-of-thought-llm/scripts/crosswords/search_crosswords-dfs.ipynb Cell 11\u001b[0m line \u001b[0;36m3\n\u001b[1;32m     <a href='vscode-notebook-cell://ssh-remote%2Bdws-student-01/work/jbriem/repos/master_thesis/tree-of-thought-llm/scripts/crosswords/search_crosswords-dfs.ipynb#X11sdnNjb2RlLXJlbW90ZQ%3D%3D?line=32'>33</a>\u001b[0m     infos\u001b[39m.\u001b[39mappend(info)\n\u001b[1;32m     <a href='vscode-notebook-cell://ssh-remote%2Bdws-student-01/work/jbriem/repos/master_thesis/tree-of-thought-llm/scripts/crosswords/search_crosswords-dfs.ipynb#X11sdnNjb2RlLXJlbW90ZQ%3D%3D?line=33'>34</a>\u001b[0m     \u001b[39mif\u001b[39;00m \u001b[39mnot\u001b[39;00m prune \u001b[39mor\u001b[39;00m count[\u001b[39m'\u001b[39m\u001b[39mimpossible\u001b[39m\u001b[39m'\u001b[39m] \u001b[39m<\u001b[39m \u001b[39m1\u001b[39m:  \u001b[39m# only continue if the current status is possible\u001b[39;00m\n\u001b[0;32m---> <a href='vscode-notebook-cell://ssh-remote%2Bdws-student-01/work/jbriem/repos/master_thesis/tree-of-thought-llm/scripts/crosswords/search_crosswords-dfs.ipynb#X11sdnNjb2RlLXJlbW90ZQ%3D%3D?line=34'>35</a>\u001b[0m         dfs(env, actions, infos, time_limit, prune, max_per_state)\n\u001b[1;32m     <a href='vscode-notebook-cell://ssh-remote%2Bdws-student-01/work/jbriem/repos/master_thesis/tree-of-thought-llm/scripts/crosswords/search_crosswords-dfs.ipynb#X11sdnNjb2RlLXJlbW90ZQ%3D%3D?line=35'>36</a>\u001b[0m     actions\u001b[39m.\u001b[39mpop()\n\u001b[1;32m     <a href='vscode-notebook-cell://ssh-remote%2Bdws-student-01/work/jbriem/repos/master_thesis/tree-of-thought-llm/scripts/crosswords/search_crosswords-dfs.ipynb#X11sdnNjb2RlLXJlbW90ZQ%3D%3D?line=36'>37</a>\u001b[0m env\u001b[39m.\u001b[39mreset(env\u001b[39m.\u001b[39midx, board\u001b[39m=\u001b[39mboard\u001b[39m.\u001b[39mcopy(), status\u001b[39m=\u001b[39mstatus\u001b[39m.\u001b[39mcopy(), steps\u001b[39m=\u001b[39msteps)\n",
      "File \u001b[0;32m_pydevd_bundle/pydevd_cython.pyx:1457\u001b[0m, in \u001b[0;36m_pydevd_bundle.pydevd_cython.SafeCallWrapper.__call__\u001b[0;34m()\u001b[0m\n",
      "File \u001b[0;32m_pydevd_bundle/pydevd_cython.pyx:701\u001b[0m, in \u001b[0;36m_pydevd_bundle.pydevd_cython.PyDBFrame.trace_dispatch\u001b[0;34m()\u001b[0m\n",
      "File \u001b[0;32m_pydevd_bundle/pydevd_cython.pyx:1395\u001b[0m, in \u001b[0;36m_pydevd_bundle.pydevd_cython.PyDBFrame.trace_dispatch\u001b[0;34m()\u001b[0m\n",
      "File \u001b[0;32m_pydevd_bundle/pydevd_cython.pyx:1344\u001b[0m, in \u001b[0;36m_pydevd_bundle.pydevd_cython.PyDBFrame.trace_dispatch\u001b[0;34m()\u001b[0m\n",
      "File \u001b[0;32m_pydevd_bundle/pydevd_cython.pyx:312\u001b[0m, in \u001b[0;36m_pydevd_bundle.pydevd_cython.PyDBFrame.do_wait_suspend\u001b[0;34m()\u001b[0m\n",
      "File \u001b[0;32m~/miniconda3/envs/langchainTest/lib/python3.11/site-packages/debugpy/_vendored/pydevd/pydevd.py:2070\u001b[0m, in \u001b[0;36mPyDB.do_wait_suspend\u001b[0;34m(self, thread, frame, event, arg, exception_type)\u001b[0m\n\u001b[1;32m   2067\u001b[0m             from_this_thread\u001b[39m.\u001b[39mappend(frame_custom_thread_id)\n\u001b[1;32m   2069\u001b[0m     \u001b[39mwith\u001b[39;00m \u001b[39mself\u001b[39m\u001b[39m.\u001b[39m_threads_suspended_single_notification\u001b[39m.\u001b[39mnotify_thread_suspended(thread_id, thread, stop_reason):\n\u001b[0;32m-> 2070\u001b[0m         keep_suspended \u001b[39m=\u001b[39m \u001b[39mself\u001b[39m\u001b[39m.\u001b[39m_do_wait_suspend(thread, frame, event, arg, suspend_type, from_this_thread, frames_tracker)\n\u001b[1;32m   2072\u001b[0m frames_list \u001b[39m=\u001b[39m \u001b[39mNone\u001b[39;00m\n\u001b[1;32m   2074\u001b[0m \u001b[39mif\u001b[39;00m keep_suspended:\n\u001b[1;32m   2075\u001b[0m     \u001b[39m# This means that we should pause again after a set next statement.\u001b[39;00m\n",
      "File \u001b[0;32m~/miniconda3/envs/langchainTest/lib/python3.11/site-packages/debugpy/_vendored/pydevd/pydevd.py:2106\u001b[0m, in \u001b[0;36mPyDB._do_wait_suspend\u001b[0;34m(self, thread, frame, event, arg, suspend_type, from_this_thread, frames_tracker)\u001b[0m\n\u001b[1;32m   2103\u001b[0m         \u001b[39mself\u001b[39m\u001b[39m.\u001b[39m_call_input_hook()\n\u001b[1;32m   2105\u001b[0m     \u001b[39mself\u001b[39m\u001b[39m.\u001b[39mprocess_internal_commands()\n\u001b[0;32m-> 2106\u001b[0m     time\u001b[39m.\u001b[39msleep(\u001b[39m0.01\u001b[39m)\n\u001b[1;32m   2108\u001b[0m \u001b[39mself\u001b[39m\u001b[39m.\u001b[39mcancel_async_evaluation(get_current_thread_id(thread), \u001b[39mstr\u001b[39m(\u001b[39mid\u001b[39m(frame)))\n\u001b[1;32m   2110\u001b[0m \u001b[39m# process any stepping instructions\u001b[39;00m\n",
      "\u001b[0;31mKeyboardInterrupt\u001b[0m: "
     ]
    }
   ],
   "source": [
    "# dfs with pruning\n",
    "infoss = []\n",
    "for i in range(0, 100, 5):\n",
    "    env.reset(i)\n",
    "    infos = []\n",
    "    actions = []\n",
    "    dfs(env, actions, infos, 100, prune=True, max_per_state=3)\n",
    "    infoss.append(infos)\n",
    "    with open('logs/crosswords/infoss_dfs_prune.json', 'w') as fout:\n",
    "        json.dump(infoss, fout)"
   ]
  },
  {
   "cell_type": "code",
   "execution_count": null,
   "metadata": {},
   "outputs": [],
   "source": [
    "# dfs without pruning\n",
    "infoss = []\n",
    "for i in range(0, 100, 5):\n",
    "    env.reset(i)\n",
    "    infos = []\n",
    "    actions = []\n",
    "    dfs(env, actions, infos, 100, prune=False, max_per_state=3)\n",
    "    infoss.append(infos)\n",
    "    with open('logs/crosswords/infoss_dfs_no_prune.json', 'w') as fout:\n",
    "        json.dump(infoss, fout)"
   ]
  }
 ],
 "metadata": {
  "kernelspec": {
   "display_name": "Python 3",
   "language": "python",
   "name": "python3"
  },
  "language_info": {
   "codemirror_mode": {
    "name": "ipython",
    "version": 3
   },
   "file_extension": ".py",
   "mimetype": "text/x-python",
   "name": "python",
   "nbconvert_exporter": "python",
   "pygments_lexer": "ipython3",
   "version": "3.11.5"
  }
 },
 "nbformat": 4,
 "nbformat_minor": 2
}
